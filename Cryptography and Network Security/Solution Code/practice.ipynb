{
 "cells": [
  {
   "cell_type": "code",
   "execution_count": 16,
   "metadata": {},
   "outputs": [
    {
     "name": "stdout",
     "output_type": "stream",
     "text": [
      "Ciphertext: MGP\n",
      "Decrypted Message: MMN\n"
     ]
    }
   ],
   "source": [
    "from sympy import Matrix\n",
    "\n",
    "\n",
    "def get_key_matrix(key):\n",
    "    return Matrix(3, 3, [ord(char) % 65 for char in key])\n",
    "\n",
    "\n",
    "def hill_encrypt(message, key):\n",
    "    message_vector = Matrix([ord(char) % 65 for char in message])\n",
    "    cipher_vector = (key * message_vector) % 26\n",
    "    ciphertext = \"\".join(chr(int(num) + 65) for num in cipher_vector)\n",
    "    return ciphertext\n",
    "\n",
    "\n",
    "def hill_decrypt(ciphertext, key):\n",
    "    key_inv = key.inv_mod(26)  # Get modular inverse of the key matrix\n",
    "    cipher_vector = Matrix([ord(char) % 65 for char in ciphertext])\n",
    "    message_vector = (key_inv * cipher_vector) % 26\n",
    "    decrypted_message = \"\".join(chr(int(num) + 65) for num in message_vector)\n",
    "    return decrypted_message\n",
    "\n",
    "\n",
    "# Example usage\n",
    "message = \"MMN\"\n",
    "key = \"ABCDEGFGH\"\n",
    "key_matrix = get_key_matrix(key)\n",
    "\n",
    "ciphertext = hill_encrypt(message, key_matrix)\n",
    "print(\"Ciphertext:\", ciphertext)\n",
    "\n",
    "decrypted_message = hill_decrypt(ciphertext, key_matrix)\n",
    "print(\"Decrypted Message:\", decrypted_message)\n"
   ]
  },
  {
   "cell_type": "code",
   "execution_count": null,
   "metadata": {},
   "outputs": [
    {
     "name": "stdout",
     "output_type": "stream",
     "text": [
      "UCLGGD MWOCT TCA\n",
      "SAJEEB KUMAR RAY\n"
     ]
    }
   ],
   "source": [
    "import string\n",
    "\n",
    "alphabet = string.ascii_uppercase\n",
    "mp = dict(zip(alphabet, range(26)))\n",
    "mp2 = dict(zip(range(26), alphabet))\n",
    "def caesar(msg, shift):\n",
    "    encrp = \"\" \n",
    "    x = ' '\n",
    "    for char in msg:\n",
    "        if char == ' ':\n",
    "            encrp += x\n",
    "            continue\n",
    "        encrp += mp2[(mp[char] + shift) % 26]\n",
    "    return encrp\n",
    "\n",
    "def decrp(chp, shift):\n",
    "    plain = \"\"\n",
    "    x = ' '\n",
    "    for char in chp:\n",
    "        if char == ' ':\n",
    "            plain += x; continue\n",
    "        plain += mp2[(mp[char]-shift + 26) %26]\n",
    "    return plain\n",
    "\n",
    "msg = \"Sajeeb Kumar Ray\".upper()\n",
    "shift = 2\n",
    "print(caesar(msg, shift))\n",
    "print(decrp(caesar(msg, shift), shift))"
   ]
  },
  {
   "cell_type": "code",
   "execution_count": 29,
   "metadata": {},
   "outputs": [
    {
     "name": "stdout",
     "output_type": "stream",
     "text": [
      "CKAYYL\n",
      "SAJEEB\n"
     ]
    }
   ],
   "source": [
    "import string\n",
    "norm = string.ascii_uppercase\n",
    "encod = \"KLMXYZNSTADEOPQRFBCGHIJUVW\"\n",
    "\n",
    "mp = dict(zip(norm, encod))\n",
    "mp2 = dict(zip(encod, norm))\n",
    "\n",
    "def encrpt(message):\n",
    "    cipher = \"\"\n",
    "    for char in message:\n",
    "        cipher += mp[char]\n",
    "    return cipher\n",
    "def decrypt(ciphertext):\n",
    "    plain = \"\"\n",
    "    for char in ciphertext:\n",
    "        plain += mp2[char]\n",
    "    return plain\n",
    "\n",
    "message = input(\"Enter message: \").upper()\n",
    "cip = encrpt(message)\n",
    "print(cip)\n",
    "print(decrypt(cip))\n"
   ]
  },
  {
   "cell_type": "code",
   "execution_count": 25,
   "metadata": {},
   "outputs": [
    {
     "name": "stdout",
     "output_type": "stream",
     "text": [
      "WENIIF OYQEV VEC\n",
      "WENIIF OYQEV VEC\n",
      "VDMHHE NXPDU UDB\n",
      "UCLGGD MWOCT TCA\n",
      "TBKFFC LVNBS SBZ\n",
      "SAJEEB KUMAR RAY\n",
      "RZIDDA JTLZQ QZX\n",
      "QYHCCZ ISKYP PYW\n",
      "PXGBBY HRJXO OXV\n",
      "OWFAAX GQIWN NWU\n",
      "NVEZZW FPHVM MVT\n",
      "MUDYYV EOGUL LUS\n",
      "LTCXXU DNFTK KTR\n",
      "KSBWWT CMESJ JSQ\n",
      "JRAVVS BLDRI IRP\n",
      "IQZUUR AKCQH HQO\n",
      "HPYTTQ ZJBPG GPN\n",
      "GOXSSP YIAOF FOM\n",
      "FNWRRO XHZNE ENL\n",
      "EMVQQN WGYMD DMK\n",
      "DLUPPM VFXLC CLJ\n",
      "CKTOOL UEWKB BKI\n",
      "BJSNNK TDVJA AJH\n",
      "AIRMMJ SCUIZ ZIG\n",
      "ZHQLLI RBTHY YHF\n",
      "YGPKKH QASGX XGE\n",
      "XFOJJG PZRFW WFD\n"
     ]
    }
   ],
   "source": [
    "import string \n",
    "alphabet = string.ascii_uppercase\n",
    "mp = dict(zip(alphabet, range(26)))\n",
    "mp2 = dict(zip(range(26), alphabet))\n",
    "\n",
    "def encrypt(msg, shift):\n",
    "    cipher = \"\"\n",
    "    x = ' '\n",
    "    for char in msg:\n",
    "        if char == ' ':\n",
    "            cipher += x; continue\n",
    "        cipher += mp2[(mp[char] + shift) % 26]\n",
    "    return cipher\n",
    "def bruteforce(ciphertext):\n",
    "    decrp = []\n",
    "    for shift in range(26):\n",
    "        plain = \"\"\n",
    "        x = ' '\n",
    "        for char in ciphertext:\n",
    "            if char == ' ':\n",
    "                plain += x; continue\n",
    "            plain += mp2[(mp[char] - shift + 26) % 26]\n",
    "        decrp.append(plain)\n",
    "    return decrp\n",
    "\n",
    "message = \"Sajeeb Kumar Ray\".upper()\n",
    "shift = 4\n",
    "ciphertext = encrypt(message, shift)\n",
    "print(ciphertext)\n",
    "pln = bruteforce(ciphertext)\n",
    "for line in pln:\n",
    "    print(line)\n"
   ]
  },
  {
   "cell_type": "code",
   "execution_count": 9,
   "metadata": {},
   "outputs": [
    {
     "name": "stdout",
     "output_type": "stream",
     "text": [
      "SAJ\n"
     ]
    }
   ],
   "source": [
    "from sympy import Matrix \n",
    "\n",
    "def gk(key):\n",
    "    return Matrix(3, 3, [ord(char) % 65 for char in key])\n",
    "\n",
    "def en(msg, key):\n",
    "    mv = Matrix([ord(char)%65 for char in msg])\n",
    "    ct = (key*mv) % 26\n",
    "    ciphertxt = \"\".join(chr(int(num) + 65 )for num in ct)\n",
    "    return ciphertxt\n",
    "\n",
    "def dec(ciph, key):\n",
    "    keyinv = key.inv_mod(26)\n",
    "    cv = Matrix([ord(char)%65 for char in ciph])\n",
    "    xx = (keyinv*cv) %26\n",
    "    plain = \"\".join(chr(int(num) + 65) for num in xx)\n",
    "    return plain \n",
    "\n",
    "message = \"SAJ\"\n",
    "key = \"ABCDEGFGH\"\n",
    "key = gk(key)\n",
    "ciphertext = en(message, key)\n",
    "print(dec(ciphertext, key))"
   ]
  },
  {
   "cell_type": "code",
   "execution_count": 39,
   "metadata": {},
   "outputs": [
    {
     "name": "stdout",
     "output_type": "stream",
     "text": [
      "saieebkumarxrayx\n"
     ]
    }
   ],
   "source": [
    "def play(cipher, key):\n",
    "    alphabet = string.ascii_lowercase.replace(\"j\", \"i\")\n",
    "    cipher = cipher.replace(\"j\", \"i\")\n",
    "    key = key.lower().replace(\"j\", \"i\")\n",
    "\n",
    "    key_s = \"\"\n",
    "    for char in key + alphabet:\n",
    "        if char not in key_s:\n",
    "            key_s += char \n",
    "\n",
    "    digraphs = [cipher[i: i+2] for i in range(0, len(cipher), 2)]\n",
    "    def decrypt(di):\n",
    "        a, b = di\n",
    "        ra, ca = divmod(key_s.index(a), 5)\n",
    "        rb, cb = divmod(key_s.index(b), 5)\n",
    "        if ra == rb:\n",
    "            ca = (ca-1+5)%5\n",
    "            cb = (cb-1+5)%5\n",
    "        if ca == cb:\n",
    "            ra = (ra-1+5)%5\n",
    "            rb = (rb-1+5)%5\n",
    "        else:\n",
    "            ca, cb = cb, ca \n",
    "        return key_s[ra*5+ca] + key_s[rb*5+cb]\n",
    "    \n",
    "    plain = \"\".join(decrypt(digraph) for digraph in digraphs)\n",
    "    return plain \n",
    "y = play(x, key)\n",
    "print(y)\n"
   ]
  },
  {
   "cell_type": "code",
   "execution_count": 45,
   "metadata": {},
   "outputs": [
    {
     "name": "stdout",
     "output_type": "stream",
     "text": [
      "iceice\n",
      "sajeeb\n",
      "acnmgf\n"
     ]
    }
   ],
   "source": [
    "alphabet = string.ascii_lowercase \n",
    "mp = dict(zip(alphabet, range(26)))\n",
    "mp2 = dict(zip(range(26), alphabet))\n",
    "\n",
    "def generate(key, length):\n",
    "    gk = \"\"\n",
    "    for i in range(length):\n",
    "        gk += key[i % len(key)]\n",
    "\n",
    "    return gk\n",
    "def encrypt(msg, key):\n",
    "    cipher = \"\"\n",
    "    for i in range(len(msg)):\n",
    "        cipher += mp2[ (mp[msg[i]] + mp[key[i]]) %26]\n",
    "    return cipher \n",
    "msg = \"sajeeb\"\n",
    "key = \"ice\"\n",
    "key = generate(key,len(msg))\n",
    "print(key)\n",
    "print(msg)\n",
    "en = encrypt(msg,key)\n",
    "print(en)\n"
   ]
  },
  {
   "cell_type": "code",
   "execution_count": null,
   "metadata": {},
   "outputs": [],
   "source": []
  },
  {
   "cell_type": "code",
   "execution_count": 66,
   "metadata": {},
   "outputs": [
    {
     "name": "stdout",
     "output_type": "stream",
     "text": [
      "[10, 9, 4, 7, 17, 2, 18, 24, 7]\n",
      "kjehrcsyh\n",
      "10 10 18\n",
      "9 9 0\n",
      "4 4 9\n",
      "7 7 4\n",
      "17 17 1\n",
      "2 2 1\n",
      "18 18 10\n",
      "24 24 20\n",
      "7 7 8\n",
      "sajebbkui\n"
     ]
    }
   ],
   "source": [
    "import random\n",
    "\n",
    "\n",
    "msg = \"sajebbkui\"\n",
    "key = \"\"\n",
    "for i in range(len(msg)):\n",
    "    key += chr(random.randint(97, 122))\n",
    "cipher = \"\"\n",
    "code = []\n",
    "mp = dict(zip(alphabet, range(26)))\n",
    "mp2 = dict(zip(range(26), alphabet))\n",
    "for i in range(len(msg)):\n",
    "    x = (mp[msg[i]] ^ mp[key[i]])\n",
    "    code.append(x)\n",
    "    cipher += mp2[x % 26]\n",
    "\n",
    "print(code)\n",
    "print(cipher)\n",
    "plain = \"\"\n",
    "for i in range(len(code)):\n",
    "    y = code[i] ^ mp[key[i]]\n",
    "    plain += mp2[y  % 26]\n",
    "    print(code[i], mp[cipher[i]], y)\n",
    "print(plain)"
   ]
  }
 ],
 "metadata": {
  "kernelspec": {
   "display_name": "Python 3",
   "language": "python",
   "name": "python3"
  },
  "language_info": {
   "codemirror_mode": {
    "name": "ipython",
    "version": 3
   },
   "file_extension": ".py",
   "mimetype": "text/x-python",
   "name": "python",
   "nbconvert_exporter": "python",
   "pygments_lexer": "ipython3",
   "version": "3.13.0"
  }
 },
 "nbformat": 4,
 "nbformat_minor": 2
}
